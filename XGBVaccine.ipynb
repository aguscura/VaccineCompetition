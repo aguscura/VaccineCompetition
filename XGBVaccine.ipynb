{
 "cells": [
  {
   "cell_type": "code",
   "execution_count": 1,
   "metadata": {
    "tags": []
   },
   "outputs": [],
   "source": [
    "import pandas as pd\n",
    "\n",
    "X = pd.read_json('train.json', lines=True)\n",
    "X_test = pd.read_json('test.json', lines=True)\n",
    "\n",
    "# X = X.set_index(\"id\")\n",
    "X_test = X_test.set_index(\"id\")\n",
    "\n",
    "X.dropna(axis=0, subset=[\"deg_50C\", \"deg_Mg_50C\", \"deg_pH10\", \"deg_Mg_pH10\", \"reactivity\"], inplace=True)\n",
    "\n",
    "y = X[[\"id\",\"deg_50C\", \"deg_Mg_50C\", \"deg_pH10\", \"deg_Mg_pH10\", \"reactivity\"]]      \n",
    "y.index = X.index      \n",
    "\n",
    "X.drop([\"deg_50C\", \"deg_Mg_50C\", \"deg_pH10\", \"deg_Mg_pH10\", \"reactivity\", \"signal_to_noise\", \"SN_filter\", \"reactivity_error\", \"deg_error_50C\", \"deg_error_Mg_50C\", \"deg_error_pH10\", \"deg_error_Mg_pH10\", \"index\" ], axis=1, inplace=True)\n",
    "\n",
    "X_test.drop([\"index\"], axis=1, inplace=True)\n",
    "\n",
    "\n",
    "\n",
    "\n"
   ]
  },
  {
   "cell_type": "code",
   "execution_count": 2,
   "metadata": {},
   "outputs": [],
   "source": [
    "lista_107 = []\n",
    "lista_130 = []\n",
    "\n",
    "for index in X_test.index:\n",
    "        if X_test[\"seq_length\"][index] == 107:\n",
    "                lista_107.append(index)\n",
    "        else: \n",
    "               lista_130.append(index)"
   ]
  },
  {
   "cell_type": "code",
   "execution_count": 3,
   "metadata": {
    "tags": []
   },
   "outputs": [],
   "source": [
    "X_test_107 = X_test.loc[lista_107[0:629], [\"sequence\", \"structure\", \"predicted_loop_type\"]]\n",
    "X_test_130 = X_test.loc[lista_130[0:3005], [\"sequence\", \"structure\", \"predicted_loop_type\"]]\n",
    "\n",
    "indice_629 = list(range(629))\n",
    "X_test_107[\"id\"] = X_test_107.index\n",
    "X_test_107 = X_test_107.set_index([indice_629])\n",
    "\n",
    "indice_3005 = list(range(3005))\n",
    "X_test_130[\"id\"] = X_test_130.index\n",
    "X_test_130 = X_test_130.set_index([indice_3005])"
   ]
  },
  {
   "cell_type": "code",
   "execution_count": 4,
   "metadata": {},
   "outputs": [],
   "source": [
    "data_y = pd.DataFrame(columns=(\"id\",\"deg_50C\", \"deg_Mg_50C\", \"deg_pH10\", \"deg_Mg_pH10\", \"reactivity\"))\n",
    "\n",
    "y[\"reactivity\"] = y[\"reactivity\"].astype('string')\n",
    "y[\"deg_50C\"] = y[\"deg_50C\"].astype('string')\n",
    "y[\"deg_Mg_50C\"] = y[\"deg_Mg_50C\"].astype('string')\n",
    "y[\"deg_pH10\"] = y[\"deg_pH10\"].astype('string')\n",
    "y[\"deg_Mg_pH10\"] = y[\"deg_Mg_pH10\"].astype('string')\n",
    "\n",
    "lista_y1 = y[\"reactivity\"].str.split(',').tolist()\n",
    "lista_y2 = y[\"deg_50C\"].str.split(',').tolist()\n",
    "lista_y3 = y[\"deg_Mg_50C\"].str.split(',').tolist()\n",
    "lista_y4 = y[\"deg_pH10\"].str.split(',').tolist()\n",
    "lista_y5 = y[\"deg_Mg_pH10\"].str.split(',').tolist()\n",
    "\n",
    "\n",
    "for i in y.index:\n",
    "\n",
    "    for j in range (0,68):  #68\n",
    "\n",
    "        valor1 = lista_y1[i][j]\n",
    "        valor2 = lista_y2[i][j]\n",
    "        valor3 = lista_y3[i][j]\n",
    "        valor4 = lista_y4[i][j]\n",
    "        valor5 = lista_y5[i][j]\n",
    "\n",
    "        data_y = data_y.append({\"id\": y[\"id\"][i] + \"_\" + str(j), \"reactivity\": valor1, \"deg_50C\": valor2, \"deg_Mg_50C\":valor3, \"deg_pH10\":valor4, \"deg_Mg_pH10\":valor5 }, ignore_index=True)\n",
    "\n",
    "\n",
    "\n"
   ]
  },
  {
   "cell_type": "code",
   "execution_count": 5,
   "metadata": {},
   "outputs": [],
   "source": [
    "    data_y[\"reactivity\"] = data_y[\"reactivity\"].str.replace( \"]\" , \"\")\n",
    "    data_y[\"reactivity\"] = data_y[\"reactivity\"].str.replace( \"[\" , \"\")\n",
    "    data_y[\"deg_50C\"] = data_y[\"deg_50C\"].str.replace( \"]\" , \"\")\n",
    "    data_y[\"deg_50C\"] = data_y[\"deg_50C\"].str.replace( \"[\" , \"\")\n",
    "    data_y[\"deg_Mg_50C\"] = data_y[\"deg_Mg_50C\"].str.replace( \"]\" , \"\")\n",
    "    data_y[\"deg_Mg_50C\"] = data_y[\"deg_Mg_50C\"].str.replace( \"[\" , \"\")\n",
    "    data_y[\"deg_pH10\"] = data_y[\"deg_pH10\"].str.replace( \"]\" , \"\")\n",
    "    data_y[\"deg_pH10\"] = data_y[\"deg_pH10\"].str.replace( \"[\" , \"\")\n",
    "    data_y[\"deg_Mg_pH10\"] = data_y[\"deg_Mg_pH10\"].str.replace( \"]\" , \"\")\n",
    "    data_y[\"deg_Mg_pH10\"] = data_y[\"deg_Mg_pH10\"].str.replace( \"[\" , \"\")"
   ]
  },
  {
   "cell_type": "code",
   "execution_count": 6,
   "metadata": {
    "tags": []
   },
   "outputs": [],
   "source": [
    "data = pd.DataFrame(columns=('id', 'sequence', 'structure', 'predicted_loop_type'))\n",
    "data_test_107 = pd.DataFrame(columns=('id', 'sequence', 'structure', 'predicted_loop_type'))\n",
    "data_test_130 = pd.DataFrame(columns=('id', 'sequence', 'structure', 'predicted_loop_type'))\n",
    "\n",
    "#TRAIN !!!!!!!!!!!!!!!!\n",
    "\n",
    "for index in X.index:\n",
    "    for i in range (0,68):  #68\n",
    "\n",
    "        secuencia = X[\"sequence\"][index]\n",
    "        sec = secuencia[i]\n",
    "\n",
    "        estructura = X[\"structure\"][index]\n",
    "        estruc = estructura[i]\n",
    "\n",
    "        predicted_loop = X[\"predicted_loop_type\"][index]\n",
    "        pred = predicted_loop[i]\n",
    "\n",
    "        data = data.append({\"id\": X[\"id\"][index] + \"_\" + str(i), \"sequence\": sec, \"structure\": estruc, \"predicted_loop_type\": pred}, ignore_index=True)\n",
    "\n",
    "#TEST 107 !!!!!!!!!!!!!!!!\n",
    "\n",
    "for index in X_test_107.index:\n",
    "    \n",
    "    for i in range (0,107):   #107\n",
    "\n",
    "        secuencia = X_test_107[\"sequence\"][index]\n",
    "        sec = secuencia[i]\n",
    "\n",
    "        estructura = X_test_107[\"structure\"][index]\n",
    "        estruc = estructura[i]\n",
    "\n",
    "        predicted_loop = X_test_107[\"predicted_loop_type\"][index]\n",
    "        pred = predicted_loop[i]\n",
    "\n",
    "        data_test_107 = data_test_107.append({\"id\": X_test_107[\"id\"][index] + \"_\" + str(i), \"sequence\": sec, \"structure\": estruc, \"predicted_loop_type\": pred }, ignore_index=True)\n",
    "\n",
    "#TEST 130 !!!!!!!!!!!!!\n",
    "\n",
    "for index in X_test_130.index:\n",
    "    \n",
    "    for i in range (0,130):   #130\n",
    "\n",
    "        secuencia = X_test_130[\"sequence\"][index]\n",
    "        sec = secuencia[i]\n",
    "\n",
    "        estructura = X_test_130[\"structure\"][index]\n",
    "        estruc = estructura[i]\n",
    "\n",
    "        predicted_loop = X_test_130[\"predicted_loop_type\"][index]\n",
    "        pred = predicted_loop[i]\n",
    "\n",
    "        data_test_130 = data_test_130.append({\"id\": X_test_130[\"id\"][index] + \"_\" + str(i), \"sequence\": sec, \"structure\": estruc, \"predicted_loop_type\": pred }, ignore_index=True)\n",
    "\n"
   ]
  },
  {
   "cell_type": "code",
   "execution_count": 7,
   "metadata": {},
   "outputs": [],
   "source": [
    "data_y.to_csv('data_y.csv', index=False)\n",
    "data.to_csv('data.csv', index=False)\n",
    "data_test_107.to_csv('data_test_107.csv', index=False)\n",
    "data_test_130.to_csv('data_test_130.csv', index=False)"
   ]
  },
  {
   "cell_type": "code",
   "execution_count": 8,
   "metadata": {},
   "outputs": [],
   "source": [
    "X_final = pd.concat([data_test_107, data_test_130], axis=0)"
   ]
  },
  {
   "cell_type": "code",
   "execution_count": 9,
   "metadata": {},
   "outputs": [],
   "source": [
    "index_final = X_final.id.str.split(\"_\", expand=True,)\n",
    "index_final = index_final.sort_values(1)"
   ]
  },
  {
   "cell_type": "code",
   "execution_count": 10,
   "metadata": {},
   "outputs": [],
   "source": [
    "indice_final = []\n",
    "anterior = \"primero para comparar\"\n",
    "num107 = 0\n",
    "num130 = 0\n",
    "\n",
    "for indice in index_final[1]:\n",
    "\n",
    "    if anterior == indice:\n",
    "        \n",
    "        continue # Interrumpe el bucle y sigue con la siguiente iteracion\n",
    "\n",
    "    else:\n",
    "        \n",
    "        anterior = indice\n",
    "\n",
    "\n",
    "        if indice in lista_130[num130]:\n",
    "\n",
    "                num130 = num130 + 1\n",
    "\n",
    "                for j in range (0,130):\n",
    "\n",
    "                            indice_final.append(\"id_\" + indice + \"_\" + str(j))\n",
    "\n",
    "                continue\n",
    "\n",
    "\n",
    "        if indice in lista_107[num107]:\n",
    "\n",
    "                num107 = num107 + 1\n",
    "            \n",
    "                for i in range (0,107):\n",
    "\n",
    "                            indice_final.append(\"id_\" + indice + \"_\" + str(i))\n",
    "\n",
    "                continue\n",
    "#INDICE FINAL OK !!! "
   ]
  },
  {
   "cell_type": "code",
   "execution_count": 11,
   "metadata": {},
   "outputs": [],
   "source": [
    "indice_final_df = pd.DataFrame(columns=['id'])\n",
    "indice_final_df['id'] = indice_final"
   ]
  },
  {
   "cell_type": "code",
   "execution_count": 12,
   "metadata": {},
   "outputs": [],
   "source": [
    "# indice_final_df = indice_final_df.set_index('id')\n",
    "# X_final = X_final.set_index('id')"
   ]
  },
  {
   "cell_type": "code",
   "execution_count": 29,
   "metadata": {},
   "outputs": [],
   "source": [
    "X_test_final = pd.merge(indice_final_df, X_final, on='id' )\n",
    "\n",
    "X_test_final = X_test_final.set_index(\"id\")\n",
    "#Ahora se papá."
   ]
  },
  {
   "cell_type": "code",
   "execution_count": 14,
   "metadata": {},
   "outputs": [],
   "source": [
    "data = data.set_index(\"id\")"
   ]
  },
  {
   "cell_type": "code",
   "execution_count": 15,
   "metadata": {},
   "outputs": [],
   "source": [
    "data_y = data_y.set_index('id')"
   ]
  },
  {
   "cell_type": "code",
   "execution_count": 30,
   "metadata": {},
   "outputs": [],
   "source": [
    "import sklearn.metrics\n",
    "from sklearn.compose import ColumnTransformer\n",
    "from sklearn.pipeline import Pipeline\n",
    "from sklearn.impute import SimpleImputer\n",
    "from sklearn.preprocessing import OneHotEncoder\n",
    "from sklearn.metrics import mean_absolute_error\n",
    "import numpy as np\n",
    "\n",
    "\n",
    "\n",
    "X_test_final = pd.get_dummies(X_test_final)"
   ]
  },
  {
   "cell_type": "code",
   "execution_count": null,
   "metadata": {},
   "outputs": [],
   "source": [
    "data = pd.get_dummies(data)"
   ]
  },
  {
   "cell_type": "code",
   "execution_count": 17,
   "metadata": {},
   "outputs": [
    {
     "output_type": "execute_result",
     "data": {
      "text/plain": "                 sequence_A  sequence_C  sequence_G  sequence_U  structure_(  \\\nid                                                                             \nid_001f94081_0            0           0           1           0            0   \nid_001f94081_1            0           0           1           0            0   \nid_001f94081_2            1           0           0           0            0   \nid_001f94081_3            1           0           0           0            0   \nid_001f94081_4            1           0           0           0            0   \n...                     ...         ...         ...         ...          ...   \nid_fff546103_63           0           1           0           0            0   \nid_fff546103_64           0           0           0           1            0   \nid_fff546103_65           1           0           0           0            0   \nid_fff546103_66           0           0           1           0            0   \nid_fff546103_67           0           1           0           0            0   \n\n                 structure_)  structure_.  predicted_loop_type_B  \\\nid                                                                 \nid_001f94081_0             0            1                      0   \nid_001f94081_1             0            1                      0   \nid_001f94081_2             0            1                      0   \nid_001f94081_3             0            1                      0   \nid_001f94081_4             0            1                      0   \n...                      ...          ...                    ...   \nid_fff546103_63            1            0                      0   \nid_fff546103_64            1            0                      0   \nid_fff546103_65            1            0                      0   \nid_fff546103_66            1            0                      0   \nid_fff546103_67            1            0                      0   \n\n                 predicted_loop_type_E  predicted_loop_type_H  \\\nid                                                              \nid_001f94081_0                       1                      0   \nid_001f94081_1                       1                      0   \nid_001f94081_2                       1                      0   \nid_001f94081_3                       1                      0   \nid_001f94081_4                       1                      0   \n...                                ...                    ...   \nid_fff546103_63                      0                      0   \nid_fff546103_64                      0                      0   \nid_fff546103_65                      0                      0   \nid_fff546103_66                      0                      0   \nid_fff546103_67                      0                      0   \n\n                 predicted_loop_type_I  predicted_loop_type_M  \\\nid                                                              \nid_001f94081_0                       0                      0   \nid_001f94081_1                       0                      0   \nid_001f94081_2                       0                      0   \nid_001f94081_3                       0                      0   \nid_001f94081_4                       0                      0   \n...                                ...                    ...   \nid_fff546103_63                      0                      0   \nid_fff546103_64                      0                      0   \nid_fff546103_65                      0                      0   \nid_fff546103_66                      0                      0   \nid_fff546103_67                      0                      0   \n\n                 predicted_loop_type_S  predicted_loop_type_X  \nid                                                             \nid_001f94081_0                       0                      0  \nid_001f94081_1                       0                      0  \nid_001f94081_2                       0                      0  \nid_001f94081_3                       0                      0  \nid_001f94081_4                       0                      0  \n...                                ...                    ...  \nid_fff546103_63                      1                      0  \nid_fff546103_64                      1                      0  \nid_fff546103_65                      1                      0  \nid_fff546103_66                      1                      0  \nid_fff546103_67                      1                      0  \n\n[163200 rows x 14 columns]",
      "text/html": "<div>\n<style scoped>\n    .dataframe tbody tr th:only-of-type {\n        vertical-align: middle;\n    }\n\n    .dataframe tbody tr th {\n        vertical-align: top;\n    }\n\n    .dataframe thead th {\n        text-align: right;\n    }\n</style>\n<table border=\"1\" class=\"dataframe\">\n  <thead>\n    <tr style=\"text-align: right;\">\n      <th></th>\n      <th>sequence_A</th>\n      <th>sequence_C</th>\n      <th>sequence_G</th>\n      <th>sequence_U</th>\n      <th>structure_(</th>\n      <th>structure_)</th>\n      <th>structure_.</th>\n      <th>predicted_loop_type_B</th>\n      <th>predicted_loop_type_E</th>\n      <th>predicted_loop_type_H</th>\n      <th>predicted_loop_type_I</th>\n      <th>predicted_loop_type_M</th>\n      <th>predicted_loop_type_S</th>\n      <th>predicted_loop_type_X</th>\n    </tr>\n    <tr>\n      <th>id</th>\n      <th></th>\n      <th></th>\n      <th></th>\n      <th></th>\n      <th></th>\n      <th></th>\n      <th></th>\n      <th></th>\n      <th></th>\n      <th></th>\n      <th></th>\n      <th></th>\n      <th></th>\n      <th></th>\n    </tr>\n  </thead>\n  <tbody>\n    <tr>\n      <th>id_001f94081_0</th>\n      <td>0</td>\n      <td>0</td>\n      <td>1</td>\n      <td>0</td>\n      <td>0</td>\n      <td>0</td>\n      <td>1</td>\n      <td>0</td>\n      <td>1</td>\n      <td>0</td>\n      <td>0</td>\n      <td>0</td>\n      <td>0</td>\n      <td>0</td>\n    </tr>\n    <tr>\n      <th>id_001f94081_1</th>\n      <td>0</td>\n      <td>0</td>\n      <td>1</td>\n      <td>0</td>\n      <td>0</td>\n      <td>0</td>\n      <td>1</td>\n      <td>0</td>\n      <td>1</td>\n      <td>0</td>\n      <td>0</td>\n      <td>0</td>\n      <td>0</td>\n      <td>0</td>\n    </tr>\n    <tr>\n      <th>id_001f94081_2</th>\n      <td>1</td>\n      <td>0</td>\n      <td>0</td>\n      <td>0</td>\n      <td>0</td>\n      <td>0</td>\n      <td>1</td>\n      <td>0</td>\n      <td>1</td>\n      <td>0</td>\n      <td>0</td>\n      <td>0</td>\n      <td>0</td>\n      <td>0</td>\n    </tr>\n    <tr>\n      <th>id_001f94081_3</th>\n      <td>1</td>\n      <td>0</td>\n      <td>0</td>\n      <td>0</td>\n      <td>0</td>\n      <td>0</td>\n      <td>1</td>\n      <td>0</td>\n      <td>1</td>\n      <td>0</td>\n      <td>0</td>\n      <td>0</td>\n      <td>0</td>\n      <td>0</td>\n    </tr>\n    <tr>\n      <th>id_001f94081_4</th>\n      <td>1</td>\n      <td>0</td>\n      <td>0</td>\n      <td>0</td>\n      <td>0</td>\n      <td>0</td>\n      <td>1</td>\n      <td>0</td>\n      <td>1</td>\n      <td>0</td>\n      <td>0</td>\n      <td>0</td>\n      <td>0</td>\n      <td>0</td>\n    </tr>\n    <tr>\n      <th>...</th>\n      <td>...</td>\n      <td>...</td>\n      <td>...</td>\n      <td>...</td>\n      <td>...</td>\n      <td>...</td>\n      <td>...</td>\n      <td>...</td>\n      <td>...</td>\n      <td>...</td>\n      <td>...</td>\n      <td>...</td>\n      <td>...</td>\n      <td>...</td>\n    </tr>\n    <tr>\n      <th>id_fff546103_63</th>\n      <td>0</td>\n      <td>1</td>\n      <td>0</td>\n      <td>0</td>\n      <td>0</td>\n      <td>1</td>\n      <td>0</td>\n      <td>0</td>\n      <td>0</td>\n      <td>0</td>\n      <td>0</td>\n      <td>0</td>\n      <td>1</td>\n      <td>0</td>\n    </tr>\n    <tr>\n      <th>id_fff546103_64</th>\n      <td>0</td>\n      <td>0</td>\n      <td>0</td>\n      <td>1</td>\n      <td>0</td>\n      <td>1</td>\n      <td>0</td>\n      <td>0</td>\n      <td>0</td>\n      <td>0</td>\n      <td>0</td>\n      <td>0</td>\n      <td>1</td>\n      <td>0</td>\n    </tr>\n    <tr>\n      <th>id_fff546103_65</th>\n      <td>1</td>\n      <td>0</td>\n      <td>0</td>\n      <td>0</td>\n      <td>0</td>\n      <td>1</td>\n      <td>0</td>\n      <td>0</td>\n      <td>0</td>\n      <td>0</td>\n      <td>0</td>\n      <td>0</td>\n      <td>1</td>\n      <td>0</td>\n    </tr>\n    <tr>\n      <th>id_fff546103_66</th>\n      <td>0</td>\n      <td>0</td>\n      <td>1</td>\n      <td>0</td>\n      <td>0</td>\n      <td>1</td>\n      <td>0</td>\n      <td>0</td>\n      <td>0</td>\n      <td>0</td>\n      <td>0</td>\n      <td>0</td>\n      <td>1</td>\n      <td>0</td>\n    </tr>\n    <tr>\n      <th>id_fff546103_67</th>\n      <td>0</td>\n      <td>1</td>\n      <td>0</td>\n      <td>0</td>\n      <td>0</td>\n      <td>1</td>\n      <td>0</td>\n      <td>0</td>\n      <td>0</td>\n      <td>0</td>\n      <td>0</td>\n      <td>0</td>\n      <td>1</td>\n      <td>0</td>\n    </tr>\n  </tbody>\n</table>\n<p>163200 rows × 14 columns</p>\n</div>"
     },
     "metadata": {},
     "execution_count": 17
    }
   ],
   "source": [
    "data"
   ]
  },
  {
   "cell_type": "code",
   "execution_count": 18,
   "metadata": {},
   "outputs": [
    {
     "output_type": "execute_result",
     "data": {
      "text/plain": "sequence_A               uint8\nsequence_C               uint8\nsequence_G               uint8\nsequence_U               uint8\nstructure_(              uint8\nstructure_)              uint8\nstructure_.              uint8\npredicted_loop_type_B    uint8\npredicted_loop_type_E    uint8\npredicted_loop_type_H    uint8\npredicted_loop_type_I    uint8\npredicted_loop_type_M    uint8\npredicted_loop_type_S    uint8\npredicted_loop_type_X    uint8\ndtype: object"
     },
     "metadata": {},
     "execution_count": 18
    }
   ],
   "source": [
    "data.astype('int64').dtypes\n",
    "data.dtypes"
   ]
  },
  {
   "cell_type": "code",
   "execution_count": 32,
   "metadata": {},
   "outputs": [
    {
     "output_type": "execute_result",
     "data": {
      "text/plain": "                  sequence_A  sequence_C  sequence_G  sequence_U  structure_(  \\\nid                                                                              \nid_00073f8be_0             0           0           1           0            0   \nid_00073f8be_1             0           0           1           0            0   \nid_00073f8be_2             1           0           0           0            0   \nid_00073f8be_3             1           0           0           0            0   \nid_00073f8be_4             1           0           0           0            0   \n...                      ...         ...         ...         ...          ...   \nid_ffda94f24_125           1           0           0           0            0   \nid_ffda94f24_126           0           1           0           0            0   \nid_ffda94f24_127           1           0           0           0            0   \nid_ffda94f24_128           1           0           0           0            0   \nid_ffda94f24_129           0           1           0           0            0   \n\n                  structure_)  structure_.  predicted_loop_type_B  \\\nid                                                                  \nid_00073f8be_0              0            1                      0   \nid_00073f8be_1              0            1                      0   \nid_00073f8be_2              0            1                      0   \nid_00073f8be_3              0            1                      0   \nid_00073f8be_4              0            1                      0   \n...                       ...          ...                    ...   \nid_ffda94f24_125            0            1                      0   \nid_ffda94f24_126            0            1                      0   \nid_ffda94f24_127            0            1                      0   \nid_ffda94f24_128            0            1                      0   \nid_ffda94f24_129            0            1                      0   \n\n                  predicted_loop_type_E  predicted_loop_type_H  \\\nid                                                               \nid_00073f8be_0                        1                      0   \nid_00073f8be_1                        1                      0   \nid_00073f8be_2                        1                      0   \nid_00073f8be_3                        1                      0   \nid_00073f8be_4                        1                      0   \n...                                 ...                    ...   \nid_ffda94f24_125                      1                      0   \nid_ffda94f24_126                      1                      0   \nid_ffda94f24_127                      1                      0   \nid_ffda94f24_128                      1                      0   \nid_ffda94f24_129                      1                      0   \n\n                  predicted_loop_type_I  predicted_loop_type_M  \\\nid                                                               \nid_00073f8be_0                        0                      0   \nid_00073f8be_1                        0                      0   \nid_00073f8be_2                        0                      0   \nid_00073f8be_3                        0                      0   \nid_00073f8be_4                        0                      0   \n...                                 ...                    ...   \nid_ffda94f24_125                      0                      0   \nid_ffda94f24_126                      0                      0   \nid_ffda94f24_127                      0                      0   \nid_ffda94f24_128                      0                      0   \nid_ffda94f24_129                      0                      0   \n\n                  predicted_loop_type_S  predicted_loop_type_X  \nid                                                              \nid_00073f8be_0                        0                      0  \nid_00073f8be_1                        0                      0  \nid_00073f8be_2                        0                      0  \nid_00073f8be_3                        0                      0  \nid_00073f8be_4                        0                      0  \n...                                 ...                    ...  \nid_ffda94f24_125                      0                      0  \nid_ffda94f24_126                      0                      0  \nid_ffda94f24_127                      0                      0  \nid_ffda94f24_128                      0                      0  \nid_ffda94f24_129                      0                      0  \n\n[457953 rows x 14 columns]",
      "text/html": "<div>\n<style scoped>\n    .dataframe tbody tr th:only-of-type {\n        vertical-align: middle;\n    }\n\n    .dataframe tbody tr th {\n        vertical-align: top;\n    }\n\n    .dataframe thead th {\n        text-align: right;\n    }\n</style>\n<table border=\"1\" class=\"dataframe\">\n  <thead>\n    <tr style=\"text-align: right;\">\n      <th></th>\n      <th>sequence_A</th>\n      <th>sequence_C</th>\n      <th>sequence_G</th>\n      <th>sequence_U</th>\n      <th>structure_(</th>\n      <th>structure_)</th>\n      <th>structure_.</th>\n      <th>predicted_loop_type_B</th>\n      <th>predicted_loop_type_E</th>\n      <th>predicted_loop_type_H</th>\n      <th>predicted_loop_type_I</th>\n      <th>predicted_loop_type_M</th>\n      <th>predicted_loop_type_S</th>\n      <th>predicted_loop_type_X</th>\n    </tr>\n    <tr>\n      <th>id</th>\n      <th></th>\n      <th></th>\n      <th></th>\n      <th></th>\n      <th></th>\n      <th></th>\n      <th></th>\n      <th></th>\n      <th></th>\n      <th></th>\n      <th></th>\n      <th></th>\n      <th></th>\n      <th></th>\n    </tr>\n  </thead>\n  <tbody>\n    <tr>\n      <th>id_00073f8be_0</th>\n      <td>0</td>\n      <td>0</td>\n      <td>1</td>\n      <td>0</td>\n      <td>0</td>\n      <td>0</td>\n      <td>1</td>\n      <td>0</td>\n      <td>1</td>\n      <td>0</td>\n      <td>0</td>\n      <td>0</td>\n      <td>0</td>\n      <td>0</td>\n    </tr>\n    <tr>\n      <th>id_00073f8be_1</th>\n      <td>0</td>\n      <td>0</td>\n      <td>1</td>\n      <td>0</td>\n      <td>0</td>\n      <td>0</td>\n      <td>1</td>\n      <td>0</td>\n      <td>1</td>\n      <td>0</td>\n      <td>0</td>\n      <td>0</td>\n      <td>0</td>\n      <td>0</td>\n    </tr>\n    <tr>\n      <th>id_00073f8be_2</th>\n      <td>1</td>\n      <td>0</td>\n      <td>0</td>\n      <td>0</td>\n      <td>0</td>\n      <td>0</td>\n      <td>1</td>\n      <td>0</td>\n      <td>1</td>\n      <td>0</td>\n      <td>0</td>\n      <td>0</td>\n      <td>0</td>\n      <td>0</td>\n    </tr>\n    <tr>\n      <th>id_00073f8be_3</th>\n      <td>1</td>\n      <td>0</td>\n      <td>0</td>\n      <td>0</td>\n      <td>0</td>\n      <td>0</td>\n      <td>1</td>\n      <td>0</td>\n      <td>1</td>\n      <td>0</td>\n      <td>0</td>\n      <td>0</td>\n      <td>0</td>\n      <td>0</td>\n    </tr>\n    <tr>\n      <th>id_00073f8be_4</th>\n      <td>1</td>\n      <td>0</td>\n      <td>0</td>\n      <td>0</td>\n      <td>0</td>\n      <td>0</td>\n      <td>1</td>\n      <td>0</td>\n      <td>1</td>\n      <td>0</td>\n      <td>0</td>\n      <td>0</td>\n      <td>0</td>\n      <td>0</td>\n    </tr>\n    <tr>\n      <th>...</th>\n      <td>...</td>\n      <td>...</td>\n      <td>...</td>\n      <td>...</td>\n      <td>...</td>\n      <td>...</td>\n      <td>...</td>\n      <td>...</td>\n      <td>...</td>\n      <td>...</td>\n      <td>...</td>\n      <td>...</td>\n      <td>...</td>\n      <td>...</td>\n    </tr>\n    <tr>\n      <th>id_ffda94f24_125</th>\n      <td>1</td>\n      <td>0</td>\n      <td>0</td>\n      <td>0</td>\n      <td>0</td>\n      <td>0</td>\n      <td>1</td>\n      <td>0</td>\n      <td>1</td>\n      <td>0</td>\n      <td>0</td>\n      <td>0</td>\n      <td>0</td>\n      <td>0</td>\n    </tr>\n    <tr>\n      <th>id_ffda94f24_126</th>\n      <td>0</td>\n      <td>1</td>\n      <td>0</td>\n      <td>0</td>\n      <td>0</td>\n      <td>0</td>\n      <td>1</td>\n      <td>0</td>\n      <td>1</td>\n      <td>0</td>\n      <td>0</td>\n      <td>0</td>\n      <td>0</td>\n      <td>0</td>\n    </tr>\n    <tr>\n      <th>id_ffda94f24_127</th>\n      <td>1</td>\n      <td>0</td>\n      <td>0</td>\n      <td>0</td>\n      <td>0</td>\n      <td>0</td>\n      <td>1</td>\n      <td>0</td>\n      <td>1</td>\n      <td>0</td>\n      <td>0</td>\n      <td>0</td>\n      <td>0</td>\n      <td>0</td>\n    </tr>\n    <tr>\n      <th>id_ffda94f24_128</th>\n      <td>1</td>\n      <td>0</td>\n      <td>0</td>\n      <td>0</td>\n      <td>0</td>\n      <td>0</td>\n      <td>1</td>\n      <td>0</td>\n      <td>1</td>\n      <td>0</td>\n      <td>0</td>\n      <td>0</td>\n      <td>0</td>\n      <td>0</td>\n    </tr>\n    <tr>\n      <th>id_ffda94f24_129</th>\n      <td>0</td>\n      <td>1</td>\n      <td>0</td>\n      <td>0</td>\n      <td>0</td>\n      <td>0</td>\n      <td>1</td>\n      <td>0</td>\n      <td>1</td>\n      <td>0</td>\n      <td>0</td>\n      <td>0</td>\n      <td>0</td>\n      <td>0</td>\n    </tr>\n  </tbody>\n</table>\n<p>457953 rows × 14 columns</p>\n</div>"
     },
     "metadata": {},
     "execution_count": 32
    }
   ],
   "source": [
    "X_test_final"
   ]
  },
  {
   "cell_type": "code",
   "execution_count": 25,
   "metadata": {},
   "outputs": [
    {
     "output_type": "execute_result",
     "data": {
      "text/plain": "                 sequence_A  sequence_C  sequence_G  sequence_U  structure_(  \\\nid                                                                             \nid_001f94081_0            0           0           1           0            0   \nid_001f94081_1            0           0           1           0            0   \nid_001f94081_2            1           0           0           0            0   \nid_001f94081_3            1           0           0           0            0   \nid_001f94081_4            1           0           0           0            0   \n...                     ...         ...         ...         ...          ...   \nid_fff546103_63           0           1           0           0            0   \nid_fff546103_64           0           0           0           1            0   \nid_fff546103_65           1           0           0           0            0   \nid_fff546103_66           0           0           1           0            0   \nid_fff546103_67           0           1           0           0            0   \n\n                 structure_)  structure_.  predicted_loop_type_B  \\\nid                                                                 \nid_001f94081_0             0            1                      0   \nid_001f94081_1             0            1                      0   \nid_001f94081_2             0            1                      0   \nid_001f94081_3             0            1                      0   \nid_001f94081_4             0            1                      0   \n...                      ...          ...                    ...   \nid_fff546103_63            1            0                      0   \nid_fff546103_64            1            0                      0   \nid_fff546103_65            1            0                      0   \nid_fff546103_66            1            0                      0   \nid_fff546103_67            1            0                      0   \n\n                 predicted_loop_type_E  predicted_loop_type_H  \\\nid                                                              \nid_001f94081_0                       1                      0   \nid_001f94081_1                       1                      0   \nid_001f94081_2                       1                      0   \nid_001f94081_3                       1                      0   \nid_001f94081_4                       1                      0   \n...                                ...                    ...   \nid_fff546103_63                      0                      0   \nid_fff546103_64                      0                      0   \nid_fff546103_65                      0                      0   \nid_fff546103_66                      0                      0   \nid_fff546103_67                      0                      0   \n\n                 predicted_loop_type_I  predicted_loop_type_M  \\\nid                                                              \nid_001f94081_0                       0                      0   \nid_001f94081_1                       0                      0   \nid_001f94081_2                       0                      0   \nid_001f94081_3                       0                      0   \nid_001f94081_4                       0                      0   \n...                                ...                    ...   \nid_fff546103_63                      0                      0   \nid_fff546103_64                      0                      0   \nid_fff546103_65                      0                      0   \nid_fff546103_66                      0                      0   \nid_fff546103_67                      0                      0   \n\n                 predicted_loop_type_S  predicted_loop_type_X  \nid                                                             \nid_001f94081_0                       0                      0  \nid_001f94081_1                       0                      0  \nid_001f94081_2                       0                      0  \nid_001f94081_3                       0                      0  \nid_001f94081_4                       0                      0  \n...                                ...                    ...  \nid_fff546103_63                      1                      0  \nid_fff546103_64                      1                      0  \nid_fff546103_65                      1                      0  \nid_fff546103_66                      1                      0  \nid_fff546103_67                      1                      0  \n\n[163200 rows x 14 columns]",
      "text/html": "<div>\n<style scoped>\n    .dataframe tbody tr th:only-of-type {\n        vertical-align: middle;\n    }\n\n    .dataframe tbody tr th {\n        vertical-align: top;\n    }\n\n    .dataframe thead th {\n        text-align: right;\n    }\n</style>\n<table border=\"1\" class=\"dataframe\">\n  <thead>\n    <tr style=\"text-align: right;\">\n      <th></th>\n      <th>sequence_A</th>\n      <th>sequence_C</th>\n      <th>sequence_G</th>\n      <th>sequence_U</th>\n      <th>structure_(</th>\n      <th>structure_)</th>\n      <th>structure_.</th>\n      <th>predicted_loop_type_B</th>\n      <th>predicted_loop_type_E</th>\n      <th>predicted_loop_type_H</th>\n      <th>predicted_loop_type_I</th>\n      <th>predicted_loop_type_M</th>\n      <th>predicted_loop_type_S</th>\n      <th>predicted_loop_type_X</th>\n    </tr>\n    <tr>\n      <th>id</th>\n      <th></th>\n      <th></th>\n      <th></th>\n      <th></th>\n      <th></th>\n      <th></th>\n      <th></th>\n      <th></th>\n      <th></th>\n      <th></th>\n      <th></th>\n      <th></th>\n      <th></th>\n      <th></th>\n    </tr>\n  </thead>\n  <tbody>\n    <tr>\n      <th>id_001f94081_0</th>\n      <td>0</td>\n      <td>0</td>\n      <td>1</td>\n      <td>0</td>\n      <td>0</td>\n      <td>0</td>\n      <td>1</td>\n      <td>0</td>\n      <td>1</td>\n      <td>0</td>\n      <td>0</td>\n      <td>0</td>\n      <td>0</td>\n      <td>0</td>\n    </tr>\n    <tr>\n      <th>id_001f94081_1</th>\n      <td>0</td>\n      <td>0</td>\n      <td>1</td>\n      <td>0</td>\n      <td>0</td>\n      <td>0</td>\n      <td>1</td>\n      <td>0</td>\n      <td>1</td>\n      <td>0</td>\n      <td>0</td>\n      <td>0</td>\n      <td>0</td>\n      <td>0</td>\n    </tr>\n    <tr>\n      <th>id_001f94081_2</th>\n      <td>1</td>\n      <td>0</td>\n      <td>0</td>\n      <td>0</td>\n      <td>0</td>\n      <td>0</td>\n      <td>1</td>\n      <td>0</td>\n      <td>1</td>\n      <td>0</td>\n      <td>0</td>\n      <td>0</td>\n      <td>0</td>\n      <td>0</td>\n    </tr>\n    <tr>\n      <th>id_001f94081_3</th>\n      <td>1</td>\n      <td>0</td>\n      <td>0</td>\n      <td>0</td>\n      <td>0</td>\n      <td>0</td>\n      <td>1</td>\n      <td>0</td>\n      <td>1</td>\n      <td>0</td>\n      <td>0</td>\n      <td>0</td>\n      <td>0</td>\n      <td>0</td>\n    </tr>\n    <tr>\n      <th>id_001f94081_4</th>\n      <td>1</td>\n      <td>0</td>\n      <td>0</td>\n      <td>0</td>\n      <td>0</td>\n      <td>0</td>\n      <td>1</td>\n      <td>0</td>\n      <td>1</td>\n      <td>0</td>\n      <td>0</td>\n      <td>0</td>\n      <td>0</td>\n      <td>0</td>\n    </tr>\n    <tr>\n      <th>...</th>\n      <td>...</td>\n      <td>...</td>\n      <td>...</td>\n      <td>...</td>\n      <td>...</td>\n      <td>...</td>\n      <td>...</td>\n      <td>...</td>\n      <td>...</td>\n      <td>...</td>\n      <td>...</td>\n      <td>...</td>\n      <td>...</td>\n      <td>...</td>\n    </tr>\n    <tr>\n      <th>id_fff546103_63</th>\n      <td>0</td>\n      <td>1</td>\n      <td>0</td>\n      <td>0</td>\n      <td>0</td>\n      <td>1</td>\n      <td>0</td>\n      <td>0</td>\n      <td>0</td>\n      <td>0</td>\n      <td>0</td>\n      <td>0</td>\n      <td>1</td>\n      <td>0</td>\n    </tr>\n    <tr>\n      <th>id_fff546103_64</th>\n      <td>0</td>\n      <td>0</td>\n      <td>0</td>\n      <td>1</td>\n      <td>0</td>\n      <td>1</td>\n      <td>0</td>\n      <td>0</td>\n      <td>0</td>\n      <td>0</td>\n      <td>0</td>\n      <td>0</td>\n      <td>1</td>\n      <td>0</td>\n    </tr>\n    <tr>\n      <th>id_fff546103_65</th>\n      <td>1</td>\n      <td>0</td>\n      <td>0</td>\n      <td>0</td>\n      <td>0</td>\n      <td>1</td>\n      <td>0</td>\n      <td>0</td>\n      <td>0</td>\n      <td>0</td>\n      <td>0</td>\n      <td>0</td>\n      <td>1</td>\n      <td>0</td>\n    </tr>\n    <tr>\n      <th>id_fff546103_66</th>\n      <td>0</td>\n      <td>0</td>\n      <td>1</td>\n      <td>0</td>\n      <td>0</td>\n      <td>1</td>\n      <td>0</td>\n      <td>0</td>\n      <td>0</td>\n      <td>0</td>\n      <td>0</td>\n      <td>0</td>\n      <td>1</td>\n      <td>0</td>\n    </tr>\n    <tr>\n      <th>id_fff546103_67</th>\n      <td>0</td>\n      <td>1</td>\n      <td>0</td>\n      <td>0</td>\n      <td>0</td>\n      <td>1</td>\n      <td>0</td>\n      <td>0</td>\n      <td>0</td>\n      <td>0</td>\n      <td>0</td>\n      <td>0</td>\n      <td>1</td>\n      <td>0</td>\n    </tr>\n  </tbody>\n</table>\n<p>163200 rows × 14 columns</p>\n</div>"
     },
     "metadata": {},
     "execution_count": 25
    }
   ],
   "source": [
    "data"
   ]
  },
  {
   "cell_type": "code",
   "execution_count": 27,
   "metadata": {},
   "outputs": [
    {
     "output_type": "execute_result",
     "data": {
      "text/plain": "       deg_50C deg_Mg_50C deg_pH10 deg_Mg_pH10 reactivity\ncount   163200     163200   163200      163200     163200\nunique   22733      23708    24362       23187      21629\ntop        0.0        0.0      0.0         0.0        0.0\nfreq     15924      14251    13924       12199      15894",
      "text/html": "<div>\n<style scoped>\n    .dataframe tbody tr th:only-of-type {\n        vertical-align: middle;\n    }\n\n    .dataframe tbody tr th {\n        vertical-align: top;\n    }\n\n    .dataframe thead th {\n        text-align: right;\n    }\n</style>\n<table border=\"1\" class=\"dataframe\">\n  <thead>\n    <tr style=\"text-align: right;\">\n      <th></th>\n      <th>deg_50C</th>\n      <th>deg_Mg_50C</th>\n      <th>deg_pH10</th>\n      <th>deg_Mg_pH10</th>\n      <th>reactivity</th>\n    </tr>\n  </thead>\n  <tbody>\n    <tr>\n      <th>count</th>\n      <td>163200</td>\n      <td>163200</td>\n      <td>163200</td>\n      <td>163200</td>\n      <td>163200</td>\n    </tr>\n    <tr>\n      <th>unique</th>\n      <td>22733</td>\n      <td>23708</td>\n      <td>24362</td>\n      <td>23187</td>\n      <td>21629</td>\n    </tr>\n    <tr>\n      <th>top</th>\n      <td>0.0</td>\n      <td>0.0</td>\n      <td>0.0</td>\n      <td>0.0</td>\n      <td>0.0</td>\n    </tr>\n    <tr>\n      <th>freq</th>\n      <td>15924</td>\n      <td>14251</td>\n      <td>13924</td>\n      <td>12199</td>\n      <td>15894</td>\n    </tr>\n  </tbody>\n</table>\n</div>"
     },
     "metadata": {},
     "execution_count": 27
    }
   ],
   "source": [
    "data_y.describe()"
   ]
  },
  {
   "cell_type": "code",
   "execution_count": 28,
   "metadata": {},
   "outputs": [
    {
     "output_type": "execute_result",
     "data": {
      "text/plain": "sequence_A               int64\nsequence_C               int64\nsequence_G               int64\nsequence_U               int64\nstructure_(              int64\nstructure_)              int64\nstructure_.              int64\npredicted_loop_type_B    int64\npredicted_loop_type_E    int64\npredicted_loop_type_H    int64\npredicted_loop_type_I    int64\npredicted_loop_type_M    int64\npredicted_loop_type_S    int64\npredicted_loop_type_X    int64\ndtype: object"
     },
     "metadata": {},
     "execution_count": 28
    }
   ],
   "source": [
    "X_test_final"
   ]
  },
  {
   "cell_type": "code",
   "execution_count": 33,
   "metadata": {},
   "outputs": [],
   "source": [
    "data_copy = data\n",
    "data_y_copy = data_y\n",
    "X_test_final_copy = X_test_final"
   ]
  },
  {
   "cell_type": "code",
   "execution_count": 38,
   "metadata": {},
   "outputs": [],
   "source": [
    "data_y_copy = data_y_copy.apply(pd.to_numeric)  #Este si funciona para pasar a numerico."
   ]
  },
  {
   "cell_type": "code",
   "execution_count": 39,
   "metadata": {},
   "outputs": [
    {
     "output_type": "execute_result",
     "data": {
      "text/plain": "             deg_50C     deg_Mg_50C       deg_pH10    deg_Mg_pH10  \\\ncount  163200.000000  163200.000000  163200.000000  163200.000000   \nmean        0.425889       0.407030       0.446911       0.446303   \nstd         1.122356       0.868013       1.285747       0.704172   \nmin       -38.339900     -24.252500     -44.515300     -14.740500   \n25%         0.092200       0.074000       0.099500       0.131400   \n50%         0.307900       0.255800       0.275100       0.289400   \n75%         0.613600       0.560200       0.568600       0.567425   \nmax        38.343800      24.254900      44.521200      14.740100   \n\n          reactivity  \ncount  163200.000000  \nmean        0.374922  \nstd         0.725652  \nmin       -20.664800  \n25%         0.043500  \n50%         0.215800  \n75%         0.539700  \nmax        20.667500  ",
      "text/html": "<div>\n<style scoped>\n    .dataframe tbody tr th:only-of-type {\n        vertical-align: middle;\n    }\n\n    .dataframe tbody tr th {\n        vertical-align: top;\n    }\n\n    .dataframe thead th {\n        text-align: right;\n    }\n</style>\n<table border=\"1\" class=\"dataframe\">\n  <thead>\n    <tr style=\"text-align: right;\">\n      <th></th>\n      <th>deg_50C</th>\n      <th>deg_Mg_50C</th>\n      <th>deg_pH10</th>\n      <th>deg_Mg_pH10</th>\n      <th>reactivity</th>\n    </tr>\n  </thead>\n  <tbody>\n    <tr>\n      <th>count</th>\n      <td>163200.000000</td>\n      <td>163200.000000</td>\n      <td>163200.000000</td>\n      <td>163200.000000</td>\n      <td>163200.000000</td>\n    </tr>\n    <tr>\n      <th>mean</th>\n      <td>0.425889</td>\n      <td>0.407030</td>\n      <td>0.446911</td>\n      <td>0.446303</td>\n      <td>0.374922</td>\n    </tr>\n    <tr>\n      <th>std</th>\n      <td>1.122356</td>\n      <td>0.868013</td>\n      <td>1.285747</td>\n      <td>0.704172</td>\n      <td>0.725652</td>\n    </tr>\n    <tr>\n      <th>min</th>\n      <td>-38.339900</td>\n      <td>-24.252500</td>\n      <td>-44.515300</td>\n      <td>-14.740500</td>\n      <td>-20.664800</td>\n    </tr>\n    <tr>\n      <th>25%</th>\n      <td>0.092200</td>\n      <td>0.074000</td>\n      <td>0.099500</td>\n      <td>0.131400</td>\n      <td>0.043500</td>\n    </tr>\n    <tr>\n      <th>50%</th>\n      <td>0.307900</td>\n      <td>0.255800</td>\n      <td>0.275100</td>\n      <td>0.289400</td>\n      <td>0.215800</td>\n    </tr>\n    <tr>\n      <th>75%</th>\n      <td>0.613600</td>\n      <td>0.560200</td>\n      <td>0.568600</td>\n      <td>0.567425</td>\n      <td>0.539700</td>\n    </tr>\n    <tr>\n      <th>max</th>\n      <td>38.343800</td>\n      <td>24.254900</td>\n      <td>44.521200</td>\n      <td>14.740100</td>\n      <td>20.667500</td>\n    </tr>\n  </tbody>\n</table>\n</div>"
     },
     "metadata": {},
     "execution_count": 39
    }
   ],
   "source": [
    "data_y_copy.describe()"
   ]
  },
  {
   "cell_type": "code",
   "execution_count": 40,
   "metadata": {},
   "outputs": [
    {
     "output_type": "execute_result",
     "data": {
      "text/plain": "          sequence_A     sequence_C     sequence_G     sequence_U  \\\ncount  163200.000000  163200.000000  163200.000000  163200.000000   \nmean        0.365778       0.189387       0.268701       0.176134   \nstd         0.481649       0.391817       0.443285       0.380935   \nmin         0.000000       0.000000       0.000000       0.000000   \n25%         0.000000       0.000000       0.000000       0.000000   \n50%         0.000000       0.000000       0.000000       0.000000   \n75%         1.000000       0.000000       1.000000       0.000000   \nmax         1.000000       1.000000       1.000000       1.000000   \n\n         structure_(    structure_)    structure_.  predicted_loop_type_B  \\\ncount  163200.000000  163200.000000  163200.000000          163200.000000   \nmean        0.244988       0.244798       0.510214               0.018793   \nstd         0.430081       0.429969       0.499897               0.135793   \nmin         0.000000       0.000000       0.000000               0.000000   \n25%         0.000000       0.000000       0.000000               0.000000   \n50%         0.000000       0.000000       1.000000               0.000000   \n75%         0.000000       0.000000       1.000000               0.000000   \nmax         1.000000       1.000000       1.000000               1.000000   \n\n       predicted_loop_type_E  predicted_loop_type_H  predicted_loop_type_I  \\\ncount          163200.000000          163200.000000          163200.000000   \nmean                0.215882               0.116618               0.074663   \nstd                 0.411434               0.320965               0.262848   \nmin                 0.000000               0.000000               0.000000   \n25%                 0.000000               0.000000               0.000000   \n50%                 0.000000               0.000000               0.000000   \n75%                 0.000000               0.000000               0.000000   \nmax                 1.000000               1.000000               1.000000   \n\n       predicted_loop_type_M  predicted_loop_type_S  predicted_loop_type_X  \ncount          163200.000000          163200.000000          163200.000000  \nmean                0.035490               0.489786               0.048768  \nstd                 0.185016               0.499897               0.215384  \nmin                 0.000000               0.000000               0.000000  \n25%                 0.000000               0.000000               0.000000  \n50%                 0.000000               0.000000               0.000000  \n75%                 0.000000               1.000000               0.000000  \nmax                 1.000000               1.000000               1.000000  ",
      "text/html": "<div>\n<style scoped>\n    .dataframe tbody tr th:only-of-type {\n        vertical-align: middle;\n    }\n\n    .dataframe tbody tr th {\n        vertical-align: top;\n    }\n\n    .dataframe thead th {\n        text-align: right;\n    }\n</style>\n<table border=\"1\" class=\"dataframe\">\n  <thead>\n    <tr style=\"text-align: right;\">\n      <th></th>\n      <th>sequence_A</th>\n      <th>sequence_C</th>\n      <th>sequence_G</th>\n      <th>sequence_U</th>\n      <th>structure_(</th>\n      <th>structure_)</th>\n      <th>structure_.</th>\n      <th>predicted_loop_type_B</th>\n      <th>predicted_loop_type_E</th>\n      <th>predicted_loop_type_H</th>\n      <th>predicted_loop_type_I</th>\n      <th>predicted_loop_type_M</th>\n      <th>predicted_loop_type_S</th>\n      <th>predicted_loop_type_X</th>\n    </tr>\n  </thead>\n  <tbody>\n    <tr>\n      <th>count</th>\n      <td>163200.000000</td>\n      <td>163200.000000</td>\n      <td>163200.000000</td>\n      <td>163200.000000</td>\n      <td>163200.000000</td>\n      <td>163200.000000</td>\n      <td>163200.000000</td>\n      <td>163200.000000</td>\n      <td>163200.000000</td>\n      <td>163200.000000</td>\n      <td>163200.000000</td>\n      <td>163200.000000</td>\n      <td>163200.000000</td>\n      <td>163200.000000</td>\n    </tr>\n    <tr>\n      <th>mean</th>\n      <td>0.365778</td>\n      <td>0.189387</td>\n      <td>0.268701</td>\n      <td>0.176134</td>\n      <td>0.244988</td>\n      <td>0.244798</td>\n      <td>0.510214</td>\n      <td>0.018793</td>\n      <td>0.215882</td>\n      <td>0.116618</td>\n      <td>0.074663</td>\n      <td>0.035490</td>\n      <td>0.489786</td>\n      <td>0.048768</td>\n    </tr>\n    <tr>\n      <th>std</th>\n      <td>0.481649</td>\n      <td>0.391817</td>\n      <td>0.443285</td>\n      <td>0.380935</td>\n      <td>0.430081</td>\n      <td>0.429969</td>\n      <td>0.499897</td>\n      <td>0.135793</td>\n      <td>0.411434</td>\n      <td>0.320965</td>\n      <td>0.262848</td>\n      <td>0.185016</td>\n      <td>0.499897</td>\n      <td>0.215384</td>\n    </tr>\n    <tr>\n      <th>min</th>\n      <td>0.000000</td>\n      <td>0.000000</td>\n      <td>0.000000</td>\n      <td>0.000000</td>\n      <td>0.000000</td>\n      <td>0.000000</td>\n      <td>0.000000</td>\n      <td>0.000000</td>\n      <td>0.000000</td>\n      <td>0.000000</td>\n      <td>0.000000</td>\n      <td>0.000000</td>\n      <td>0.000000</td>\n      <td>0.000000</td>\n    </tr>\n    <tr>\n      <th>25%</th>\n      <td>0.000000</td>\n      <td>0.000000</td>\n      <td>0.000000</td>\n      <td>0.000000</td>\n      <td>0.000000</td>\n      <td>0.000000</td>\n      <td>0.000000</td>\n      <td>0.000000</td>\n      <td>0.000000</td>\n      <td>0.000000</td>\n      <td>0.000000</td>\n      <td>0.000000</td>\n      <td>0.000000</td>\n      <td>0.000000</td>\n    </tr>\n    <tr>\n      <th>50%</th>\n      <td>0.000000</td>\n      <td>0.000000</td>\n      <td>0.000000</td>\n      <td>0.000000</td>\n      <td>0.000000</td>\n      <td>0.000000</td>\n      <td>1.000000</td>\n      <td>0.000000</td>\n      <td>0.000000</td>\n      <td>0.000000</td>\n      <td>0.000000</td>\n      <td>0.000000</td>\n      <td>0.000000</td>\n      <td>0.000000</td>\n    </tr>\n    <tr>\n      <th>75%</th>\n      <td>1.000000</td>\n      <td>0.000000</td>\n      <td>1.000000</td>\n      <td>0.000000</td>\n      <td>0.000000</td>\n      <td>0.000000</td>\n      <td>1.000000</td>\n      <td>0.000000</td>\n      <td>0.000000</td>\n      <td>0.000000</td>\n      <td>0.000000</td>\n      <td>0.000000</td>\n      <td>1.000000</td>\n      <td>0.000000</td>\n    </tr>\n    <tr>\n      <th>max</th>\n      <td>1.000000</td>\n      <td>1.000000</td>\n      <td>1.000000</td>\n      <td>1.000000</td>\n      <td>1.000000</td>\n      <td>1.000000</td>\n      <td>1.000000</td>\n      <td>1.000000</td>\n      <td>1.000000</td>\n      <td>1.000000</td>\n      <td>1.000000</td>\n      <td>1.000000</td>\n      <td>1.000000</td>\n      <td>1.000000</td>\n    </tr>\n  </tbody>\n</table>\n</div>"
     },
     "metadata": {},
     "execution_count": 40
    }
   ],
   "source": [
    "data.describe()"
   ]
  },
  {
   "cell_type": "code",
   "execution_count": 41,
   "metadata": {},
   "outputs": [
    {
     "output_type": "execute_result",
     "data": {
      "text/plain": "          sequence_A     sequence_C     sequence_G     sequence_U  \\\ncount  457953.000000  457953.000000  457953.000000  457953.000000   \nmean        0.355004       0.227263       0.244698       0.173035   \nstd         0.478515       0.419065       0.429908       0.378278   \nmin         0.000000       0.000000       0.000000       0.000000   \n25%         0.000000       0.000000       0.000000       0.000000   \n50%         0.000000       0.000000       0.000000       0.000000   \n75%         1.000000       0.000000       0.000000       0.000000   \nmax         1.000000       1.000000       1.000000       1.000000   \n\n         structure_(    structure_)    structure_.  predicted_loop_type_B  \\\ncount  457953.000000  457953.000000  457953.000000          457953.000000   \nmean        0.249451       0.249451       0.501097               0.010818   \nstd         0.432696       0.432696       0.499999               0.103444   \nmin         0.000000       0.000000       0.000000               0.000000   \n25%         0.000000       0.000000       0.000000               0.000000   \n50%         0.000000       0.000000       1.000000               0.000000   \n75%         0.000000       0.000000       1.000000               0.000000   \nmax         1.000000       1.000000       1.000000               1.000000   \n\n       predicted_loop_type_E  predicted_loop_type_H  predicted_loop_type_I  \\\ncount          457953.000000          457953.000000          457953.000000   \nmean                0.256852               0.120390               0.054973   \nstd                 0.436897               0.325417               0.227928   \nmin                 0.000000               0.000000               0.000000   \n25%                 0.000000               0.000000               0.000000   \n50%                 0.000000               0.000000               0.000000   \n75%                 1.000000               0.000000               0.000000   \nmax                 1.000000               1.000000               1.000000   \n\n       predicted_loop_type_M  predicted_loop_type_S  predicted_loop_type_X  \ncount          457953.000000          457953.000000          457953.000000  \nmean                0.021417               0.498903               0.036648  \nstd                 0.144770               0.499999               0.187896  \nmin                 0.000000               0.000000               0.000000  \n25%                 0.000000               0.000000               0.000000  \n50%                 0.000000               0.000000               0.000000  \n75%                 0.000000               1.000000               0.000000  \nmax                 1.000000               1.000000               1.000000  ",
      "text/html": "<div>\n<style scoped>\n    .dataframe tbody tr th:only-of-type {\n        vertical-align: middle;\n    }\n\n    .dataframe tbody tr th {\n        vertical-align: top;\n    }\n\n    .dataframe thead th {\n        text-align: right;\n    }\n</style>\n<table border=\"1\" class=\"dataframe\">\n  <thead>\n    <tr style=\"text-align: right;\">\n      <th></th>\n      <th>sequence_A</th>\n      <th>sequence_C</th>\n      <th>sequence_G</th>\n      <th>sequence_U</th>\n      <th>structure_(</th>\n      <th>structure_)</th>\n      <th>structure_.</th>\n      <th>predicted_loop_type_B</th>\n      <th>predicted_loop_type_E</th>\n      <th>predicted_loop_type_H</th>\n      <th>predicted_loop_type_I</th>\n      <th>predicted_loop_type_M</th>\n      <th>predicted_loop_type_S</th>\n      <th>predicted_loop_type_X</th>\n    </tr>\n  </thead>\n  <tbody>\n    <tr>\n      <th>count</th>\n      <td>457953.000000</td>\n      <td>457953.000000</td>\n      <td>457953.000000</td>\n      <td>457953.000000</td>\n      <td>457953.000000</td>\n      <td>457953.000000</td>\n      <td>457953.000000</td>\n      <td>457953.000000</td>\n      <td>457953.000000</td>\n      <td>457953.000000</td>\n      <td>457953.000000</td>\n      <td>457953.000000</td>\n      <td>457953.000000</td>\n      <td>457953.000000</td>\n    </tr>\n    <tr>\n      <th>mean</th>\n      <td>0.355004</td>\n      <td>0.227263</td>\n      <td>0.244698</td>\n      <td>0.173035</td>\n      <td>0.249451</td>\n      <td>0.249451</td>\n      <td>0.501097</td>\n      <td>0.010818</td>\n      <td>0.256852</td>\n      <td>0.120390</td>\n      <td>0.054973</td>\n      <td>0.021417</td>\n      <td>0.498903</td>\n      <td>0.036648</td>\n    </tr>\n    <tr>\n      <th>std</th>\n      <td>0.478515</td>\n      <td>0.419065</td>\n      <td>0.429908</td>\n      <td>0.378278</td>\n      <td>0.432696</td>\n      <td>0.432696</td>\n      <td>0.499999</td>\n      <td>0.103444</td>\n      <td>0.436897</td>\n      <td>0.325417</td>\n      <td>0.227928</td>\n      <td>0.144770</td>\n      <td>0.499999</td>\n      <td>0.187896</td>\n    </tr>\n    <tr>\n      <th>min</th>\n      <td>0.000000</td>\n      <td>0.000000</td>\n      <td>0.000000</td>\n      <td>0.000000</td>\n      <td>0.000000</td>\n      <td>0.000000</td>\n      <td>0.000000</td>\n      <td>0.000000</td>\n      <td>0.000000</td>\n      <td>0.000000</td>\n      <td>0.000000</td>\n      <td>0.000000</td>\n      <td>0.000000</td>\n      <td>0.000000</td>\n    </tr>\n    <tr>\n      <th>25%</th>\n      <td>0.000000</td>\n      <td>0.000000</td>\n      <td>0.000000</td>\n      <td>0.000000</td>\n      <td>0.000000</td>\n      <td>0.000000</td>\n      <td>0.000000</td>\n      <td>0.000000</td>\n      <td>0.000000</td>\n      <td>0.000000</td>\n      <td>0.000000</td>\n      <td>0.000000</td>\n      <td>0.000000</td>\n      <td>0.000000</td>\n    </tr>\n    <tr>\n      <th>50%</th>\n      <td>0.000000</td>\n      <td>0.000000</td>\n      <td>0.000000</td>\n      <td>0.000000</td>\n      <td>0.000000</td>\n      <td>0.000000</td>\n      <td>1.000000</td>\n      <td>0.000000</td>\n      <td>0.000000</td>\n      <td>0.000000</td>\n      <td>0.000000</td>\n      <td>0.000000</td>\n      <td>0.000000</td>\n      <td>0.000000</td>\n    </tr>\n    <tr>\n      <th>75%</th>\n      <td>1.000000</td>\n      <td>0.000000</td>\n      <td>0.000000</td>\n      <td>0.000000</td>\n      <td>0.000000</td>\n      <td>0.000000</td>\n      <td>1.000000</td>\n      <td>0.000000</td>\n      <td>1.000000</td>\n      <td>0.000000</td>\n      <td>0.000000</td>\n      <td>0.000000</td>\n      <td>1.000000</td>\n      <td>0.000000</td>\n    </tr>\n    <tr>\n      <th>max</th>\n      <td>1.000000</td>\n      <td>1.000000</td>\n      <td>1.000000</td>\n      <td>1.000000</td>\n      <td>1.000000</td>\n      <td>1.000000</td>\n      <td>1.000000</td>\n      <td>1.000000</td>\n      <td>1.000000</td>\n      <td>1.000000</td>\n      <td>1.000000</td>\n      <td>1.000000</td>\n      <td>1.000000</td>\n      <td>1.000000</td>\n    </tr>\n  </tbody>\n</table>\n</div>"
     },
     "metadata": {},
     "execution_count": 41
    }
   ],
   "source": [
    "X_test_final.describe()"
   ]
  },
  {
   "cell_type": "code",
   "execution_count": 44,
   "metadata": {
    "tags": []
   },
   "outputs": [
    {
     "output_type": "execute_result",
     "data": {
      "text/plain": "{'N_est 550/ Cv 5/ Learning_rate 0.0495/ Maxdepth:2/ Colsample:0.3/ Subsample: 0.6': nan,\n 'N_est 550/ Cv 5/ Learning_rate 0.0495/ Maxdepth:4/ Colsample:0.3/ Subsample: 0.6': nan}"
     },
     "metadata": {},
     "execution_count": 44
    }
   ],
   "source": [
    "from sklearn.model_selection import cross_val_score\n",
    "from xgboost import XGBRegressor\n",
    "\n",
    "def CrossVal (n_estimators, cv, learning_rate, X, y, max_depth, colsample_bytree,subsample):\n",
    "    \n",
    "   #Define the model\n",
    "    \n",
    "    my_model = XGBRegressor(objective='reg:squarederror', eval_metric='mae', random_state=0, \n",
    "    n_estimators= n_estimators, learning_rate = learning_rate, n_jobs=2, colsample_bytree=colsample_bytree, subsample=subsample, verbosity=1) # Your code here\n",
    "    \n",
    "    MAE = -1 * cross_val_score(my_model, X, y, cv=cv, scoring='neg_mean_absolute_error') #Acá pongo X e y enteras porque estoy en la funcion de crossvalidation. SOLITA va a tomar una parte para test y otra para train.\n",
    "    \n",
    "    prom_MAE = MAE.mean()\n",
    "    \n",
    "    return prom_MAE\n",
    "\n",
    "results = {}\n",
    "\n",
    "for estimators in [550]:\n",
    "    for cv in [5]:\n",
    "        for learning in [0.0495]:\n",
    "            for maxdepth in [2,4]:\n",
    "                for colsample in [0.3]:\n",
    "                    for subsample in [0.6]:\n",
    "            \n",
    "                        results[\"N_est \"+str(estimators)+\"/ Cv \"+str(cv)+\"/ Learning_rate \"+str(learning)+ \"/ Maxdepth:\" + str(maxdepth) + \"/ Colsample:\" +str(colsample) + \"/ Subsample: \" + str(subsample)  ] = CrossVal(estimators,cv,learning, data_copy, data_y_copy, maxdepth, colsample , subsample)\n",
    "\n",
    "results"
   ]
  },
  {
   "cell_type": "code",
   "execution_count": 50,
   "metadata": {},
   "outputs": [],
   "source": [
    "data_y_1 = data_y[\"deg_50C\"]\n",
    "data_y_2 = data_y[\"deg_Mg_50C\"]\n",
    "data_y_3 = data_y[\"deg_pH10\"]\n",
    "data_y_4 = data_y[\"deg_Mg_pH10\"]\n",
    "data_y_5 = data_y[\"reactivity\"]"
   ]
  },
  {
   "cell_type": "code",
   "execution_count": 51,
   "metadata": {
    "tags": []
   },
   "outputs": [],
   "source": [
    "modelo = XGBRegressor(objective='reg:squarederror', eval_metric='mae', random_state=0, \n",
    "    n_estimators= 550, learning_rate = 0.0495, n_jobs=2, colsample_bytree=0.3, subsample=0.6, verbosity=1)# Your code here\n",
    "\n",
    "#Fit the model\n",
    "modelo.fit(data_copy, data_y_1, verbose=False) #Armo el modelo con toda la data \n",
    "predicciones1 = modelo.predict(X_test_final)\n",
    "\n",
    "modelo.fit(data_copy, data_y_2, verbose=False) #Armo el modelo con toda la data \n",
    "predicciones2 = modelo.predict(X_test_final)\n",
    "\n",
    "modelo.fit(data_copy, data_y_3, verbose=False) #Armo el modelo con toda la data \n",
    "predicciones3 = modelo.predict(X_test_final)\n",
    "\n",
    "modelo.fit(data_copy, data_y_4, verbose=False) #Armo el modelo con toda la data \n",
    "predicciones4 = modelo.predict(X_test_final)\n",
    "\n",
    "modelo.fit(data_copy, data_y_5, verbose=False) #Armo el modelo con toda la data \n",
    "predicciones5 = modelo.predict(X_test_final)"
   ]
  },
  {
   "cell_type": "code",
   "execution_count": 56,
   "metadata": {},
   "outputs": [],
   "source": [
    "predicciones1_df = pd.DataFrame(data=predicciones1, columns= [\"deg_50C\"], index=X_test_final.index)\n",
    "predicciones2_df = pd.DataFrame(data=predicciones2, columns= [\"deg_Mg_50C\"], index=X_test_final.index)\n",
    "predicciones3_df = pd.DataFrame(data=predicciones3, columns= [\"deg_pH10\"], index=X_test_final.index)\n",
    "predicciones4_df = pd.DataFrame(data=predicciones4, columns= [\"deg_Mg_pH10\"], index=X_test_final.index)\n",
    "predicciones5_df = pd.DataFrame(data=predicciones5, columns= [\"reactivity\"], index=X_test_final.index)"
   ]
  },
  {
   "cell_type": "code",
   "execution_count": 59,
   "metadata": {},
   "outputs": [],
   "source": [
    "predicciones = pd.concat([predicciones5_df,predicciones4_df,predicciones3_df,predicciones2_df,predicciones1_df], axis=1)"
   ]
  },
  {
   "cell_type": "code",
   "execution_count": 65,
   "metadata": {},
   "outputs": [
    {
     "output_type": "execute_result",
     "data": {
      "text/plain": "                  reactivity  deg_Mg_pH10  deg_pH10  deg_Mg_50C   deg_50C\nid_seqpos                                                                \nid_00073f8be_0      0.820136     1.037521  1.730609    0.976826  0.965427\nid_00073f8be_1      0.820136     1.037521  1.730609    0.976826  0.965427\nid_00073f8be_2      0.566465     0.467403  0.542044    0.586875  0.592435\nid_00073f8be_3      0.566465     0.467403  0.542044    0.586875  0.592435\nid_00073f8be_4      0.566465     0.467403  0.542044    0.586875  0.592435\n...                      ...          ...       ...         ...       ...\nid_ffda94f24_125    0.566465     0.467403  0.542044    0.586875  0.592435\nid_ffda94f24_126    0.233162     0.373198  0.532840    0.451956  0.432220\nid_ffda94f24_127    0.566465     0.467403  0.542044    0.586875  0.592435\nid_ffda94f24_128    0.566465     0.467403  0.542044    0.586875  0.592435\nid_ffda94f24_129    0.233162     0.373198  0.532840    0.451956  0.432220\n\n[457953 rows x 5 columns]",
      "text/html": "<div>\n<style scoped>\n    .dataframe tbody tr th:only-of-type {\n        vertical-align: middle;\n    }\n\n    .dataframe tbody tr th {\n        vertical-align: top;\n    }\n\n    .dataframe thead th {\n        text-align: right;\n    }\n</style>\n<table border=\"1\" class=\"dataframe\">\n  <thead>\n    <tr style=\"text-align: right;\">\n      <th></th>\n      <th>reactivity</th>\n      <th>deg_Mg_pH10</th>\n      <th>deg_pH10</th>\n      <th>deg_Mg_50C</th>\n      <th>deg_50C</th>\n    </tr>\n    <tr>\n      <th>id_seqpos</th>\n      <th></th>\n      <th></th>\n      <th></th>\n      <th></th>\n      <th></th>\n    </tr>\n  </thead>\n  <tbody>\n    <tr>\n      <th>id_00073f8be_0</th>\n      <td>0.820136</td>\n      <td>1.037521</td>\n      <td>1.730609</td>\n      <td>0.976826</td>\n      <td>0.965427</td>\n    </tr>\n    <tr>\n      <th>id_00073f8be_1</th>\n      <td>0.820136</td>\n      <td>1.037521</td>\n      <td>1.730609</td>\n      <td>0.976826</td>\n      <td>0.965427</td>\n    </tr>\n    <tr>\n      <th>id_00073f8be_2</th>\n      <td>0.566465</td>\n      <td>0.467403</td>\n      <td>0.542044</td>\n      <td>0.586875</td>\n      <td>0.592435</td>\n    </tr>\n    <tr>\n      <th>id_00073f8be_3</th>\n      <td>0.566465</td>\n      <td>0.467403</td>\n      <td>0.542044</td>\n      <td>0.586875</td>\n      <td>0.592435</td>\n    </tr>\n    <tr>\n      <th>id_00073f8be_4</th>\n      <td>0.566465</td>\n      <td>0.467403</td>\n      <td>0.542044</td>\n      <td>0.586875</td>\n      <td>0.592435</td>\n    </tr>\n    <tr>\n      <th>...</th>\n      <td>...</td>\n      <td>...</td>\n      <td>...</td>\n      <td>...</td>\n      <td>...</td>\n    </tr>\n    <tr>\n      <th>id_ffda94f24_125</th>\n      <td>0.566465</td>\n      <td>0.467403</td>\n      <td>0.542044</td>\n      <td>0.586875</td>\n      <td>0.592435</td>\n    </tr>\n    <tr>\n      <th>id_ffda94f24_126</th>\n      <td>0.233162</td>\n      <td>0.373198</td>\n      <td>0.532840</td>\n      <td>0.451956</td>\n      <td>0.432220</td>\n    </tr>\n    <tr>\n      <th>id_ffda94f24_127</th>\n      <td>0.566465</td>\n      <td>0.467403</td>\n      <td>0.542044</td>\n      <td>0.586875</td>\n      <td>0.592435</td>\n    </tr>\n    <tr>\n      <th>id_ffda94f24_128</th>\n      <td>0.566465</td>\n      <td>0.467403</td>\n      <td>0.542044</td>\n      <td>0.586875</td>\n      <td>0.592435</td>\n    </tr>\n    <tr>\n      <th>id_ffda94f24_129</th>\n      <td>0.233162</td>\n      <td>0.373198</td>\n      <td>0.532840</td>\n      <td>0.451956</td>\n      <td>0.432220</td>\n    </tr>\n  </tbody>\n</table>\n<p>457953 rows × 5 columns</p>\n</div>"
     },
     "metadata": {},
     "execution_count": 65
    }
   ],
   "source": [
    "predicciones_copy = predicciones\n",
    "\n",
    "predicciones_copy = predicciones.rename_axis(\"id_seqpos\")\n",
    "predicciones_copy"
   ]
  },
  {
   "cell_type": "code",
   "execution_count": 67,
   "metadata": {},
   "outputs": [],
   "source": [
    "predicciones_copy.to_csv('pred_vaccine.csv')"
   ]
  }
 ],
 "metadata": {
  "kernelspec": {
   "display_name": "Python 3.7.9 64-bit ('agusentorno': conda)",
   "language": "python",
   "name": "python37964bitagusentornoconda51664e877804487aa3da8880320029cb"
  },
  "language_info": {
   "codemirror_mode": {
    "name": "ipython",
    "version": 3
   },
   "file_extension": ".py",
   "mimetype": "text/x-python",
   "name": "python",
   "nbconvert_exporter": "python",
   "pygments_lexer": "ipython3",
   "version": "3.7.9-final"
  }
 },
 "nbformat": 4,
 "nbformat_minor": 4
}